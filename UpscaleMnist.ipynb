{
  "cells": [
    {
      "cell_type": "markdown",
      "metadata": {
        "id": "PJbX3O794fuQ"
      },
      "source": [
        "# Aumento de Resolución en Imágenes"
      ]
    },
    {
      "cell_type": "markdown",
      "metadata": {
        "id": "dXOQZTUB4vkZ"
      },
      "source": [
        "El objetivo de esta práctica, como bien pone el título, es el aumento de la resolución de las imágenes. En este caso estaremos usando el conjunto de imágenes MNIST. "
      ]
    },
    {
      "cell_type": "code",
      "execution_count": 4,
      "metadata": {
        "id": "mNsF8Tsc76cC"
      },
      "outputs": [],
      "source": [
        "import torch\n",
        "import torch.nn as nn\n",
        "import torch.nn.functional as F\n",
        "import torch.optim as optim\n",
        "from torchvision import datasets, transforms\n",
        "import matplotlib.pyplot as plt"
      ]
    },
    {
      "cell_type": "markdown",
      "metadata": {
        "id": "Ij4AlG4N6PcR"
      },
      "source": [
        "## Preparación de los datos"
      ]
    },
    {
      "cell_type": "code",
      "execution_count": 18,
      "metadata": {
        "id": "LX34yFCuGyCP"
      },
      "outputs": [],
      "source": [
        "transform = transforms.ToTensor()\n",
        "\n",
        "mnist_data = datasets.MNIST(root='./data', train=True, download=True, transform=transform)\n",
        "data_loader = torch.utils.data.DataLoader(dataset=mnist_data,\n",
        "                                          batch_size=64,\n",
        "                                          shuffle=True)\n",
        "\n",
        "mnist_data_valid = datasets.MNIST(root='./data', train=False, download=True, transform=transform)\n",
        "data_loader_valid = torch.utils.data.DataLoader(dataset=mnist_data_valid,\n",
        "                                          batch_size=64,\n",
        "                                          shuffle=True)"
      ]
    },
    {
      "cell_type": "code",
      "execution_count": 17,
      "metadata": {},
      "outputs": [
        {
          "name": "stdout",
          "output_type": "stream",
          "text": [
            "tensor(0.) tensor(1.)\n"
          ]
        }
      ],
      "source": [
        "# Iterador para el conjunto de las imágenes\n",
        "dataiter = iter(data_loader) \n",
        "\n",
        "# Get the next batch\n",
        "images, labels = next(dataiter)  # Changed from dataiter.next() to next(dataiter)\n",
        "print(torch.min(images), torch.max(images))"
      ]
    },
    {
      "cell_type": "markdown",
      "metadata": {
        "id": "jLVSzraO6ihP"
      },
      "source": [
        "# Autoencoder"
      ]
    },
    {
      "cell_type": "markdown",
      "metadata": {
        "id": "6AVeKBsj6_ep"
      },
      "source": [
        "Para poder conseguir nuestro objetivo, **quitaremos del encoder la 1ª capa convolutiva**. Más adelante explicaremos el por qué."
      ]
    },
    {
      "cell_type": "code",
      "execution_count": 19,
      "metadata": {
        "id": "gKDans32fi5-"
      },
      "outputs": [],
      "source": [
        "class Autoencoder(nn.Module):\n",
        "    def __init__(self):\n",
        "        super().__init__()\n",
        "                \n",
        "        # N, 1, 14, 14 --> Un canal de entrada (capa), 14 de largo y 14 de ancho\n",
        "        self.encoder = nn.Sequential(\n",
        "            nn.Conv2d(1, 8, 5, stride=2, padding=3), \n",
        "            nn.ReLU(),\n",
        "            nn.Conv2d(8, 16, 5, stride=2, padding=3), \n",
        "            nn.ReLU(),\n",
        "            nn.Conv2d(16, 32, 3),\n",
        "            nn.ReLU(),\n",
        "            nn.Conv2d(32, 64, 3)\n",
        "        )\n",
        "        \n",
        "        # N , 64, 1, 1 --> 64 canales de entrada, 1 de alto y 1 de ancho, es decir, un vector (latente)\n",
        "        self.decoder = nn.Sequential(\n",
        "            nn.ConvTranspose2d(64, 32, 3), \n",
        "            nn.ReLU(),\n",
        "            nn.ConvTranspose2d(32, 16, 7), \n",
        "            nn.ReLU(),\n",
        "            nn.ConvTranspose2d(16, 8, 4, stride=2, padding=3, output_padding=1), \n",
        "            nn.ReLU(),\n",
        "            nn.ConvTranspose2d(8, 1, 5, stride=2, padding=3, output_padding=1), \n",
        "            nn.Sigmoid()\n",
        "            # nn.Tanh()\n",
        "        )\n",
        "\n",
        "    def forward(self, x):\n",
        "        #print(x.shape)\n",
        "        encoded = self.encoder(x)\n",
        "        #print(encoded.shape)\n",
        "        decoded = self.decoder(encoded)\n",
        "        #print(decoded.shape)\n",
        "        return decoded"
      ]
    },
    {
      "cell_type": "markdown",
      "metadata": {
        "id": "hwvsRuWF8pWO"
      },
      "source": [
        "## Inicialización del modelo"
      ]
    },
    {
      "cell_type": "code",
      "execution_count": 20,
      "metadata": {
        "id": "he9Af17yHFZQ"
      },
      "outputs": [],
      "source": [
        "model = Autoencoder()\n",
        "\n",
        "criterion = nn.MSELoss() # Función de pérdida\n",
        "optimizer = torch.optim.Adam(model.parameters(),\n",
        "                             lr=1e-3,\n",
        "                             weight_decay=1e-5) # Adam es el mejor optimizador de redes neuronales, es el que provoca una convergencia más rápida"
      ]
    },
    {
      "cell_type": "markdown",
      "metadata": {
        "id": "mqA1NoRE81Yx"
      },
      "source": [
        "## Entrenamiento"
      ]
    },
    {
      "cell_type": "markdown",
      "metadata": {
        "id": "bwHBR0IP83Fk"
      },
      "source": [
        "Para poder aumentar la resolución, previamente **tendremos que reducir el tamaño de la imagen a la mitad**. Ello lo conseguimos haciendo un Resize de cada imagen.\n",
        "\n",
        "La idea es que lo **guardemos en una variable temporal**, de forma que al final el criterion se mida en base al valor de la imagen original (sin transformar) y la imagen reconstruida."
      ]
    },
    {
      "cell_type": "code",
      "execution_count": 21,
      "metadata": {
        "colab": {
          "base_uri": "https://localhost:8080/"
        },
        "id": "xZci7bE5fr6n",
        "outputId": "421150bd-82e6-4813-d1a2-c1e5593ed310"
      },
      "outputs": [
        {
          "name": "stdout",
          "output_type": "stream",
          "text": [
            "Epoch:1, Loss:0.0347\n",
            "Epoch:2, Loss:0.0156\n",
            "Epoch:3, Loss:0.0139\n",
            "Epoch:4, Loss:0.0126\n",
            "Epoch:5, Loss:0.0090\n",
            "Epoch:6, Loss:0.0083\n",
            "Epoch:7, Loss:0.0083\n",
            "Epoch:8, Loss:0.0082\n",
            "Epoch:9, Loss:0.0078\n",
            "Epoch:10, Loss:0.0082\n"
          ]
        }
      ],
      "source": [
        "num_epochs = 10\n",
        "outputs = []\n",
        "transformacion = transforms.Resize(size = (14, 14)) # Reshape de la imagen a 14*14, como un Tensor\n",
        "\n",
        "for epoch in range(num_epochs):\n",
        "    for (img_original, _) in data_loader:\n",
        "        #print(img_original.shape)\n",
        "        img_transformada = transformacion(img_original)\n",
        "        #print(img_transformada.shape)\n",
        "        recon = model(img_transformada) # El recon debe ser el resultado del modelo con la imagen reshapeada con el transform\n",
        "        #print(recon.shape)\n",
        "        loss = criterion(recon, img_original) # Criterion entre la imagen original y el recon\n",
        "        \n",
        "        optimizer.zero_grad()\n",
        "        loss.backward()\n",
        "        optimizer.step()\n",
        "\n",
        "    print(f'Epoch:{epoch+1}, Loss:{loss.item():.4f}')\n",
        "    outputs.append((epoch, img_original, img_transformada, recon))"
      ]
    },
    {
      "cell_type": "markdown",
      "metadata": {
        "id": "bIfk_lHaiQmb"
      },
      "source": [
        "Existe una mejora sustancial, la pérdida disminuye."
      ]
    },
    {
      "cell_type": "markdown",
      "metadata": {
        "id": "517DMJpa_LVn"
      },
      "source": [
        "# Pruebas"
      ]
    },
    {
      "cell_type": "code",
      "execution_count": 22,
      "metadata": {
        "colab": {
          "base_uri": "https://localhost:8080/",
          "height": 764
        },
        "id": "Je72hjjrf_9m",
        "outputId": "350e37b2-5949-4de4-b4f8-45fa8a4e0ade"
      },
      "outputs": [
        {
          "data": {
            "image/png": "[encoded data removed]",
            "text/plain": [
              "<Figure size 1800x400 with 6 Axes>"
            ]
          },
          "metadata": {},
          "output_type": "display_data"
        },
        {
          "data": {
            "image/png": "[encoded data removed]",
            "text/plain": [
              "<Figure size 1800x400 with 6 Axes>"
            ]
          },
          "metadata": {},
          "output_type": "display_data"
        },
        {
          "data": {
            "image/png": "[encoded data removed]",
            "text/plain": [
              "<Figure size 1800x400 with 6 Axes>"
            ]
          },
          "metadata": {},
          "output_type": "display_data"
        }
      ],
      "source": [
        "for k in range(0, num_epochs, 4):\n",
        "    plt.figure(figsize=(18, 4)) # Para que se pueda ver la diferencia entre la imagen original y la reconstruida, mostraremos ambas bastante ampliadas.\n",
        "    plt.gray()\n",
        "    imgs_transformadas = outputs[k][2].detach().numpy() # Provocamos el aumento de tamaño\n",
        "    recons = outputs[k][3].detach().numpy()\n",
        "    for i, item in enumerate(imgs_transformadas):\n",
        "        if i >= 3: break\n",
        "        plt.subplot(2, 3, i+1) # Filas, columnas, posición de la imagen\n",
        "        plt.imshow(item[0])\n",
        "            \n",
        "    for i, item in enumerate(recons):\n",
        "        if i >= 3: break\n",
        "        plt.subplot(2, 3, 3+i+1) # Filas, columnas, posición de la imagen\n",
        "        plt.imshow(item[0])"
      ]
    },
    {
      "cell_type": "markdown",
      "metadata": {
        "id": "nIKR6oblWXmn"
      },
      "source": [
        "## Comprobación con el conjunto de validación"
      ]
    },
    {
      "cell_type": "code",
      "execution_count": 24,
      "metadata": {
        "colab": {
          "base_uri": "https://localhost:8080/",
          "height": 268
        },
        "id": "M-7aWz7ogEs3",
        "outputId": "895e2d99-accb-405b-d57e-48551a026eb2"
      },
      "outputs": [
        {
          "data": {
            "image/png": "[encoded data removed]",
            "text/plain": [
              "<Figure size 1200x400 with 6 Axes>"
            ]
          },
          "metadata": {},
          "output_type": "display_data"
        }
      ],
      "source": [
        "model.eval()\n",
        "\n",
        "# Iterador del conjunto de validación\n",
        "dataiter = iter(data_loader_valid)\n",
        "images, labels = next(dataiter)\n",
        "\n",
        "img = images[0]\n",
        "#print(img.shape)\n",
        "\n",
        "plt.figure(figsize=(12, 4)) # figsize=(18,4)\n",
        "plt.gray()\n",
        "\n",
        "\n",
        "for i, img_original in enumerate(images[:3]):\n",
        "    with torch.no_grad():\n",
        "        img_transformada = transformacion(img_original) # Copia temporal reducida de tamaño a la mitad\n",
        "        #print(img_transformada.shape)\n",
        "        pred = model(img_transformada) # Imagen reconstruida, 28*28\n",
        "        recon = pred.detach().numpy()\n",
        "        #print(recon.shape)\n",
        "\n",
        "        plt.subplot(2, 3, i+1)\n",
        "        #print(img_original.shape)\n",
        "        plt.imshow(img_original[0])\n",
        "\n",
        "        plt.subplot(2, 3, i+1+3)\n",
        "        plt.imshow(recon[0])"
      ]
    },
    {
      "cell_type": "code",
      "execution_count": null,
      "metadata": {},
      "outputs": [],
      "source": []
    },
    {
      "cell_type": "markdown",
      "metadata": {
        "id": "9UEbkrIKh26j"
      },
      "source": [
        "Podemos observar que, siendo la primera fila las imágenes originales y la segunda las mismas imágenes reconstruidas, se ve que las de abajo son capaces de discriminar un poquito mejor "
      ]
    }
  ],
  "metadata": {
    "colab": {
      "provenance": []
    },
    "kernelspec": {
      "display_name": "PLN2",
      "language": "python",
      "name": "python3"
    },
    "language_info": {
      "codemirror_mode": {
        "name": "ipython",
        "version": 3
      },
      "file_extension": ".py",
      "mimetype": "text/x-python",
      "name": "python",
      "nbconvert_exporter": "python",
      "pygments_lexer": "ipython3",
      "version": "3.12.8"
    }
  },
  "nbformat": 4,
  "nbformat_minor": 0
}
